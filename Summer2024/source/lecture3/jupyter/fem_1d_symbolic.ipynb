{
 "cells": [
  {
   "cell_type": "markdown",
   "id": "9802db2c",
   "metadata": {},
   "source": [
    "# Symbolic derivation of 1-D FEM stiffness matrix"
   ]
  },
  {
   "cell_type": "markdown",
   "id": "42e1456e",
   "metadata": {},
   "source": [
    "First import everything. Note how we now import sympy as sy to make it clear which functions we are using"
   ]
  },
  {
   "cell_type": "code",
   "execution_count": 10,
   "id": "54e23217",
   "metadata": {},
   "outputs": [],
   "source": [
    "import numpy as np\n",
    "import matplotlib.pyplot as plt\n",
    "import sympy as sy"
   ]
  },
  {
   "cell_type": "markdown",
   "id": "e6da359f",
   "metadata": {},
   "source": [
    "Now we define the symbols, compute the shape function, and build the stiffness matrix of a single elelemt."
   ]
  },
  {
   "cell_type": "code",
   "execution_count": 11,
   "id": "61b47c95",
   "metadata": {},
   "outputs": [],
   "source": [
    "# symbols\n",
    "#dx, x, k, xi = symbols('dx x k xi')\n",
    "    \n",
    "#N1  = 1-(x-xi)/(dx)\n",
    "#N2  = (x-xi)/(dx)\n",
    "\n",
    "#E11 = ???\n",
    "#E12 = ???\n",
    "#E21 = ???\n",
    "#E22 = ???\n",
    "\n",
    "#Ael = Matrix([[?, ?], [?, ?]])\n",
    "#Ael"
   ]
  },
  {
   "cell_type": "code",
   "execution_count": 13,
   "id": "4ec35471",
   "metadata": {},
   "outputs": [
    {
     "data": {
      "text/latex": [
       "$\\displaystyle \\left[\\begin{matrix}\\frac{k}{dx} & - \\frac{k}{dx}\\\\- \\frac{k}{dx} & \\frac{k}{dx}\\end{matrix}\\right]$"
      ],
      "text/plain": [
       "Matrix([\n",
       "[ k/dx, -k/dx],\n",
       "[-k/dx,  k/dx]])"
      ]
     },
     "execution_count": 13,
     "metadata": {},
     "output_type": "execute_result"
    }
   ],
   "source": [
    "# hide\n",
    "# symbols\n",
    "dx, x, k, xi = sy.symbols('dx x k xi')\n",
    "    \n",
    "N1  = 1-(x-xi)/(dx)\n",
    "N2  = (x-xi)/(dx)\n",
    "\n",
    "E11 = sy.integrate(sy.diff(N1,x)*k*sy.diff(N1,x), ( x, 0, dx))\n",
    "E12 = sy.integrate(sy.diff(N1,x)*k*sy.diff(N2,x), ( x, 0, dx))\n",
    "E21 = sy.integrate(sy.diff(N2,x)*k*sy.diff(N1,x), ( x, 0, dx))\n",
    "E22 = sy.integrate(sy.diff(N2,x)*k*sy.diff(N2,x), ( x, 0, dx))\n",
    "\n",
    "Ael = sy.Matrix([[E11, E12], [E21, E22]])\n",
    "Ael"
   ]
  },
  {
   "cell_type": "markdown",
   "id": "3be90f4a",
   "metadata": {},
   "source": [
    "Note how we made a little simplification here and integrated from 0 to dx and not from x(i) to x(i+1); the result is the same.\n",
    "\n",
    "Now we build the global stiffness matrix by adding all element stiffness matrices to the big global stiffness matrix. Unfortunately, the indexing in sympy matrices is a bit different to normal numpy indexing. \n",
    "\n",
    "We there have to use a little trick that is described here:\n",
    "https://www.reddit.com/r/learnpython/comments/f7uxn6/question_how_to_add_matrix_to_submatrix_in_sympy/\n",
    "\n",
    "We simply identify the upper left index on the left-hand side and use list indexing on the right-hand side when adding the small matrices to the big one."
   ]
  },
  {
   "cell_type": "code",
   "execution_count": 20,
   "id": "f2173a93",
   "metadata": {},
   "outputs": [
    {
     "name": "stdout",
     "output_type": "stream",
     "text": [
      "[[1 2 3 4]\n",
      " [2 3 4 5]]\n"
     ]
    },
    {
     "data": {
      "text/latex": [
       "$\\displaystyle \\left[\\begin{matrix}\\frac{k}{dx} & - \\frac{k}{dx} & 0 & 0 & 0\\\\- \\frac{k}{dx} & \\frac{2 k}{dx} & - \\frac{k}{dx} & 0 & 0\\\\0 & - \\frac{k}{dx} & \\frac{2 k}{dx} & - \\frac{k}{dx} & 0\\\\0 & 0 & - \\frac{k}{dx} & \\frac{2 k}{dx} & - \\frac{k}{dx}\\\\0 & 0 & 0 & - \\frac{k}{dx} & \\frac{k}{dx}\\end{matrix}\\right]$"
      ],
      "text/plain": [
       "Matrix([\n",
       "[ k/dx,  -k/dx,      0,      0,     0],\n",
       "[-k/dx, 2*k/dx,  -k/dx,      0,     0],\n",
       "[    0,  -k/dx, 2*k/dx,  -k/dx,     0],\n",
       "[    0,      0,  -k/dx, 2*k/dx, -k/dx],\n",
       "[    0,      0,      0,  -k/dx,  k/dx]])"
      ]
     },
     "execution_count": 20,
     "metadata": {},
     "output_type": "execute_result"
    }
   ],
   "source": [
    "# numerical paramters\n",
    "nel     = 4       # number of elements\n",
    "nnodel  = 2       # nodes per element \n",
    "nnod    = nel+1   # number of nodes\n",
    "\n",
    "EL2NOD  = np.array([np.arange(1,nnod), np.arange(2,nnod+1)])  # connectivity matrix\n",
    "print(EL2NOD)\n",
    "\n",
    "# global matrix assemly\n",
    "A = sy.zeros(nnod, nnod)\n",
    "for iel in range(0,4):\n",
    "    A[EL2NOD[0,iel]-1,EL2NOD[0,iel]-1] = A[list(EL2NOD[:,iel]-1), list(EL2NOD[:,iel]-1)] + Ael\n",
    "\n",
    "A\n"
   ]
  },
  {
   "cell_type": "markdown",
   "id": "9c6a6ff5",
   "metadata": {},
   "source": [
    "Does this matrix look familiar, or at least has a familiar structure?"
   ]
  },
  {
   "cell_type": "code",
   "execution_count": null,
   "id": "1fde11ba",
   "metadata": {},
   "outputs": [],
   "source": []
  }
 ],
 "metadata": {
  "kernelspec": {
   "display_name": "py3_htf_class",
   "language": "python",
   "name": "py3_htf_class"
  },
  "language_info": {
   "codemirror_mode": {
    "name": "ipython",
    "version": 3
   },
   "file_extension": ".py",
   "mimetype": "text/x-python",
   "name": "python",
   "nbconvert_exporter": "python",
   "pygments_lexer": "ipython3",
   "version": "3.7.10"
  }
 },
 "nbformat": 4,
 "nbformat_minor": 5
}
