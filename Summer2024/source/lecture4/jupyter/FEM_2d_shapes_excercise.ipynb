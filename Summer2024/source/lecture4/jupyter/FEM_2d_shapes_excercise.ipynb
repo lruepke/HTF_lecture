{
 "cells": [
  {
   "cell_type": "markdown",
   "id": "c8b10d92",
   "metadata": {},
   "source": [
    "# 2-D FEM shape functions\n",
    "\n",
    "Compute the shape functions at try the interpolation at different \"integration\" pints within the element."
   ]
  },
  {
   "cell_type": "code",
   "execution_count": 1,
   "id": "110e493a",
   "metadata": {},
   "outputs": [],
   "source": [
    "import numpy as np"
   ]
  },
  {
   "cell_type": "code",
   "execution_count": 2,
   "id": "0f5a00f3",
   "metadata": {},
   "outputs": [],
   "source": [
    "#def shapes():\n",
    "#    \n",
    "#    N1 = ?\n",
    "#    N2 = ?\n",
    "#    N3 = ?\n",
    "#    N4 = ?\n",
    "\n",
    "#    N = np.array([N1, N2, N3, N4])\n",
    "    \n",
    "#    return N"
   ]
  },
  {
   "cell_type": "code",
   "execution_count": 3,
   "id": "1b91bace",
   "metadata": {},
   "outputs": [],
   "source": [
    "#hide\n",
    "\n",
    "def shapes(xi, eta):\n",
    "    \n",
    "    #shape functions\n",
    "    \n",
    "    N1 = 0.25*(1-xi)*(1-eta)\n",
    "    N2 = 0.25*(1+xi)*(1-eta)\n",
    "    N3 = 0.25*(1+xi)*(1+eta)\n",
    "    N4 = 0.25*(1-xi)*(1+eta)\n",
    "\n",
    "    N = np.array([N1, N2, N3, N4])\n",
    "    \n",
    "    # and their derivatives\n",
    "    dNds = np.zeros((2,4))\n",
    " \n",
    "    dNds[0,0]   =  0.25*(-1  + eta) #derivative with xi\n",
    "    dNds[1,0]   =  0.25*(xi  -  1) #derivative with eta\n",
    "\n",
    "    #derivatives of second shape function with local coordinates\n",
    "    dNds[0,1]   =  0.25*(1   - eta)\n",
    "    dNds[1,1]   =  0.25*(-xi -  1)\n",
    "\n",
    "    #derivatives of third shape function with local coordinates\n",
    "    dNds[0,2]   =  0.25*(eta  +  1)\n",
    "    dNds[1,2]   =  0.25*(xi  +  1)\n",
    "\n",
    "    #derivatives of fourth shape function with local coordinates\n",
    "    dNds[0,3]   =  0.25*(-eta -  1)\n",
    "    dNds[1,3]   =  0.25*(1   - xi)\n",
    "    \n",
    "    return N, dNds"
   ]
  },
  {
   "cell_type": "code",
   "execution_count": 27,
   "id": "f296ffb8",
   "metadata": {},
   "outputs": [
    {
     "name": "stdout",
     "output_type": "stream",
     "text": [
      "[0.   0.35 0.65 0.  ]\n",
      "0.5\n",
      "0.65\n"
     ]
    }
   ],
   "source": [
    "# pseudo gcoord\n",
    "GCOORD = np.array([[-1, 1, 1, -1],[-1, -1, 1, 1]])\n",
    "#print(GCOORD)\n",
    "# pseudo nodal temperatures\n",
    "T = np.array([0, 0, 1, 1])\n",
    "#print(T)\n",
    "# interpolatin point\n",
    "xi = 1\n",
    "eta = 0.3\n",
    "\n",
    "# shape functions at integration point\n",
    "N, dNds = shapes(xi,eta)\n",
    "\n",
    "#interpolation\n",
    "print(N)\n",
    "print(sum(dNds[1,:]*T))\n",
    "print(sum(N*T))"
   ]
  },
  {
   "cell_type": "code",
   "execution_count": 9,
   "id": "d55c137c",
   "metadata": {},
   "outputs": [
    {
     "data": {
      "text/plain": [
       "1.0"
      ]
     },
     "execution_count": 9,
     "metadata": {},
     "output_type": "execute_result"
    }
   ],
   "source": [
    "sum(N)"
   ]
  },
  {
   "cell_type": "code",
   "execution_count": null,
   "id": "e3b38dfb",
   "metadata": {},
   "outputs": [],
   "source": []
  }
 ],
 "metadata": {
  "kernelspec": {
   "display_name": "py312_teaching",
   "language": "python",
   "name": "python3"
  },
  "language_info": {
   "codemirror_mode": {
    "name": "ipython",
    "version": 3
   },
   "file_extension": ".py",
   "mimetype": "text/x-python",
   "name": "python",
   "nbconvert_exporter": "python",
   "pygments_lexer": "ipython3",
   "version": "3.12.3"
  }
 },
 "nbformat": 4,
 "nbformat_minor": 5
}
