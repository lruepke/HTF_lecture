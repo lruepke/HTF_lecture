{
 "cells": [
  {
   "cell_type": "markdown",
   "id": "c8b10d92",
   "metadata": {},
   "source": [
    "# 2-D FEM shape functions\n",
    "\n",
    "Compute the shape functions at try the interpolation at different \"integration\" pints within the element."
   ]
  },
  {
   "cell_type": "code",
   "execution_count": 31,
   "id": "110e493a",
   "metadata": {},
   "outputs": [],
   "source": [
    "import numpy as np"
   ]
  },
  {
   "cell_type": "code",
   "execution_count": 32,
   "id": "0f5a00f3",
   "metadata": {},
   "outputs": [],
   "source": [
    "#def shapes():\n",
    "#    \n",
    "#    N1 = ?\n",
    "#    N2 = ?\n",
    "#    N3 = ?\n",
    "#    N4 = ?\n",
    "\n",
    "#    N = np.array([N1, N2, N3, N4])\n",
    "    \n",
    "#    return N"
   ]
  },
  {
   "cell_type": "code",
   "execution_count": 33,
   "id": "1b91bace",
   "metadata": {},
   "outputs": [],
   "source": [
    "#hide\n",
    "\n",
    "def shapes():\n",
    "    \n",
    "    #shape functions\n",
    "    \n",
    "    N1 = 0.25*(1-xi)*(1-eta)\n",
    "    N2 = 0.25*(1+xi)*(1-eta)\n",
    "    N3 = 0.25*(1+xi)*(1+eta)\n",
    "    N4 = 0.25*(1-xi)*(1+eta)\n",
    "\n",
    "    N = np.array([N1, N2, N3, N4])\n",
    "    \n",
    "    # and their derivatives\n",
    "    dNds = np.zeros((2,4))\n",
    " \n",
    "    dNds[0,0]   =  0.25*(-1  + eta) #derivative with xi\n",
    "    dNds[1,0]   =  0.25*(xi  -  1) #derivative with eta\n",
    "\n",
    "    #derivatives of second shape function with local coordinates\n",
    "    dNds[0,1]   =  0.25*(1   - eta)\n",
    "    dNds[1,1]   =  0.25*(-xi -  1)\n",
    "\n",
    "    #derivatives of third shape function with local coordinates\n",
    "    dNds[0,2]   =  0.25*(eta  +  1)\n",
    "    dNds[1,2]   =  0.25*(xi  +  1)\n",
    "\n",
    "    #derivatives of fourth shape function with local coordinates\n",
    "    dNds[0,3]   =  0.25*(-eta -  1)\n",
    "    dNds[1,3]   =  0.25*(1   - xi)\n",
    "    \n",
    "    return N, dNds"
   ]
  },
  {
   "cell_type": "code",
   "execution_count": 38,
   "id": "f296ffb8",
   "metadata": {},
   "outputs": [
    {
     "name": "stdout",
     "output_type": "stream",
     "text": [
      "[[-1  1  1 -1]\n",
      " [-1 -1  1  1]]\n",
      "[0 0 1 1]\n",
      "0.5\n",
      "0.5\n"
     ]
    }
   ],
   "source": [
    "# pseudo gcoord\n",
    "GCOORD = np.array([[-1, 1, 1, -1],[-1, -1, 1, 1]])\n",
    "print(GCOORD)\n",
    "# pseudo nodal temperatures\n",
    "T = np.array([0, 0, 1, 1])\n",
    "print(T)\n",
    "# interpolatin point\n",
    "xi = 0\n",
    "eta = 0\n",
    "\n",
    "# shape functions at integration point\n",
    "N, dNds = shapes()\n",
    "\n",
    "#interpolation\n",
    "print(sum(N*T))\n",
    "print(sum(dNds[1,:]*T))"
   ]
  },
  {
   "cell_type": "code",
   "execution_count": null,
   "id": "d55c137c",
   "metadata": {},
   "outputs": [],
   "source": []
  }
 ],
 "metadata": {
  "kernelspec": {
   "display_name": "py3_htf_class",
   "language": "python",
   "name": "py3_htf_class"
  },
  "language_info": {
   "codemirror_mode": {
    "name": "ipython",
    "version": 3
   },
   "file_extension": ".py",
   "mimetype": "text/x-python",
   "name": "python",
   "nbconvert_exporter": "python",
   "pygments_lexer": "ipython3",
   "version": "3.7.10"
  }
 },
 "nbformat": 4,
 "nbformat_minor": 5
}
