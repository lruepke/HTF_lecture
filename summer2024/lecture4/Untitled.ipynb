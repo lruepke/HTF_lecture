{
 "cells": [
  {
   "cell_type": "markdown",
   "id": "00ed93aa",
   "metadata": {},
   "source": [
    "# 2D diffusion using FEM"
   ]
  },
  {
   "cell_type": "markdown",
   "id": "abdd6ae4",
   "metadata": {},
   "source": [
    "Problem description:\n",
    "\n",
    "We will solve for the steady-state temperature field within a unit square box. The box includes a rectangular region in the center, where conductivity is higher. If you want geological context, think of it as a salt diapir ;)\n",
    "\n",
    "Setup:\n",
    "\n",
    "center coordinate: 0,0\n",
    "length in x and : 1\n",
    "top temperature: 0\n",
    "bot temperature: 1\n",
    "thermal conductivity: 1\n",
    "box conductivity: 5"
   ]
  },
  {
   "cell_type": "code",
   "execution_count": 1,
   "id": "6de434d7",
   "metadata": {},
   "outputs": [],
   "source": [
    "import numpy as np\n",
    "from tabulate import tabulate\n",
    "from scipy.sparse.linalg import spsolve\n",
    "from scipy.sparse import csr_matrix\n",
    "from scipy import sparse\n",
    "import matplotlib as mpl\n",
    "import matplotlib.pyplot as plt\n",
    "mpl.rcParams['figure.dpi']= 300"
   ]
  },
  {
   "cell_type": "code",
   "execution_count": 2,
   "id": "3c417455",
   "metadata": {},
   "outputs": [],
   "source": [
    "#geometry\n",
    "lx          = 2\n",
    "ly          = 1\n",
    "nx          = 31\n",
    "ny          = 21\n",
    "nnodel      = 4\n",
    "dx          = lx/(nx-1)\n",
    "dy          = ly/(ny-1)\n",
    "w_i         = 0.2 # width inclusion\n",
    "h_i         = 0.2 # heigths inclusion\n",
    "\n",
    "# model parameters\n",
    "k1          = 1\n",
    "k2          = 5\n",
    "Ttop        = 0\n",
    "Tbot        = 1\n",
    " \n",
    "nex         = nx-1\n",
    "ney         = ny-1\n",
    "nnod        = nx*ny\n",
    "nel         = nex*ney\n",
    "GCOORD      = np.zeros((nnod,2))\n",
    "T           = np.zeros(nnod) #initial T\n",
    "\n",
    "id = 0\n",
    "\n",
    "# global coordinates\n",
    "\n",
    "for i in range(0,ny):\n",
    "    for j in range(0,nx):\n",
    "        GCOORD[id,0] = -lx/2 + j*dx\n",
    "        GCOORD[id,1] = -ly/2 + i*dy\n",
    "        id          = id + 1;\n",
    "\n",
    "# FEM connectivity\n",
    "EL2NOD   = np.zeros((nel,nnodel), dtype=int)\n",
    "\n",
    "for iel in range(0,nel):\n",
    "    row        = iel//nex   \n",
    "    ind        = iel + row\n",
    "    EL2NOD[iel,:] = [ind, ind+1, ind+nx+1, ind+nx]\n",
    "    \n",
    "# Gauss integration points\n",
    "nip   = 4\n",
    "gauss = np.array([[ -np.sqrt(1/3), np.sqrt(1/3), np.sqrt(1/3), -np.sqrt(1/3)], [-np.sqrt(1/3), -np.sqrt(1/3), np.sqrt(1/3), np.sqrt(1/3)]]).T.copy()\n"
   ]
  },
  {
   "cell_type": "markdown",
   "id": "3f1f2f67",
   "metadata": {},
   "source": [
    "Now we create our shape functions"
   ]
  },
  {
   "cell_type": "code",
   "execution_count": 3,
   "id": "b1e97a29",
   "metadata": {},
   "outputs": [],
   "source": [
    "def shapes():\n",
    "    \n",
    "    #shape functions\n",
    "    \n",
    "    N1 = 0.25*(1-xi)*(1-eta)\n",
    "    N2 = 0.25*(1+xi)*(1-eta)\n",
    "    N3 = 0.25*(1+xi)*(1+eta)\n",
    "    N4 = 0.25*(1-xi)*(1+eta)\n",
    "\n",
    "    N = np.array([N1, N2, N3, N4])\n",
    "    \n",
    "    # and their derivatives\n",
    "    dNds = np.zeros((2,4))\n",
    " \n",
    "    dNds[0,0]   =  0.25*(-1  + eta) #derivative with xi\n",
    "    dNds[1,0]   =  0.25*(xi  -  1) #derivative with eta\n",
    "\n",
    "    #derivatives of second shape function with local coordinates\n",
    "    dNds[0,1]   =  0.25*(1   - eta)\n",
    "    dNds[1,1]   =  0.25*(-xi -  1)\n",
    "\n",
    "    #derivatives of third shape function with local coordinates\n",
    "    dNds[0,2]   =  0.25*(eta  +  1)\n",
    "    dNds[1,2]   =  0.25*(xi  +  1)\n",
    "\n",
    "    #derivatives of fourth shape function with local coordinates\n",
    "    dNds[0,3]   =  0.25*(-eta -  1)\n",
    "    dNds[1,3]   =  0.25*(1   - xi)\n",
    "    \n",
    "    return N, dNds"
   ]
  },
  {
   "cell_type": "markdown",
   "id": "186a0c25",
   "metadata": {},
   "source": [
    "And do the element assembly and integration"
   ]
  },
  {
   "cell_type": "code",
   "execution_count": 4,
   "id": "73a7e4f9",
   "metadata": {},
   "outputs": [],
   "source": [
    "Rhs_all = np.zeros(nnod)\n",
    "\n",
    "I = np.zeros((nel,nnodel*nnodel))\n",
    "J = np.zeros((nel,nnodel*nnodel))\n",
    "K = np.zeros((nel,nnodel*nnodel))\n",
    "\n",
    "for iel in range(0,nel):\n",
    "    ECOORD = np.take(GCOORD, EL2NOD[iel,:], axis=0 )\n",
    "    Ael    = np.zeros((nnodel,nnodel))\n",
    "    Rhs_el = np.zeros(nnodel)\n",
    "    \n",
    "    for ip in range(0,nip):\n",
    "        \n",
    "        # 1. update shape functions\n",
    "        xi      = gauss[ip,0]\n",
    "        eta     = gauss[ip,1]\n",
    "        N, dNds = shapes()\n",
    "        \n",
    "        # 2. set up Jacobian, inverse of Jacobian, and determinant\n",
    "        Jac     = np.matmul(dNds,ECOORD) #[2,nnodel]*[nnodel,2]\n",
    "        invJ    = np.linalg.inv(Jac)    \n",
    "        detJ    = np.linalg.det(Jac)\n",
    "        \n",
    "        # 3. get global derivatives\n",
    "        dNdx    = np.matmul(invJ, dNds) # [2,2]*[2,nnodel]\n",
    "        \n",
    "        # 4. compute element stiffness matrix\n",
    "        Ael     = Ael + np.matmul(dNdx.T, dNdx)*detJ*k1 # [nnodel,1]*[1,nnodel]\n",
    "        \n",
    "        # 5. assemble right-hand side\n",
    "        Rhs_el     = Rhs_el + np.zeros(4)\n",
    "    \n",
    "    # assemble coefficients\n",
    "    I[iel,:]  =  (EL2NOD[iel,:]*np.ones((nnodel,1), dtype=int)).T.reshape(nnodel*nnodel)\n",
    "    J[iel,:]  =  (EL2NOD[iel,:]*np.ones((nnodel,1), dtype=int)).reshape(nnodel*nnodel)\n",
    "    K[iel,:]  =  Ael.reshape(nnodel*nnodel)\n",
    "    \n",
    "    Rhs_all[EL2NOD[iel,:]] += Rhs_el\n",
    "\n",
    "\n",
    "A_all = sparse.csr_matrix((K.reshape(nel*nnodel*nnodel),(I.reshape(nel*nnodel*nnodel),J.reshape(nel*nnodel*nnodel))),shape=(nnod,nnod))\n",
    "\n"
   ]
  },
  {
   "cell_type": "markdown",
   "id": "3532931a",
   "metadata": {},
   "source": [
    "Boundary conditions and solution"
   ]
  },
  {
   "cell_type": "code",
   "execution_count": 5,
   "id": "02442709",
   "metadata": {},
   "outputs": [
    {
     "data": {
      "image/png": "[encoded data removed]",
      "text/plain": [
       "<Figure size 1800x960 with 1 Axes>"
      ]
     },
     "metadata": {
      "needs_background": "light"
     },
     "output_type": "display_data"
    }
   ],
   "source": [
    "# indices and values at top and bottom\n",
    "i_bot   = np.arange(0,nx, dtype=int)\n",
    "i_top   = np.arange(nx*(ny-1),nx*ny, dtype=int)\n",
    "Ind_bc  = np.concatenate((i_bot, i_top))\n",
    "Val_bc  = np.concatenate((np.ones(i_bot.shape)*Tbot, np.ones(i_top.shape)*Ttop ))\n",
    "\n",
    "# smart way of boundary conditions that keeps matrix symmetry\n",
    "Free    = np.arange(0,nnod)\n",
    "Free    = np.delete(Free, Ind_bc)\n",
    "TMP     = A_all[:,Ind_bc]\n",
    "\n",
    "Rhs_all = Rhs_all - TMP.dot(Val_bc)\n",
    "\n",
    "# solve reduced system\n",
    "T[Free] = spsolve(A_all[np.ix_(Free, Free)],Rhs_all[Free])\n",
    "T[Ind_bc] = Val_bc\n",
    "\n",
    "\n",
    "# plottin\n",
    "T = T.reshape((ny,nx))\n",
    "\n",
    "fig = plt.figure(figsize=(6, 3.2))\n",
    "\n",
    "ax = fig.add_subplot(111)\n",
    "ax.set_title('colorMap')\n",
    "plt.imshow(T)\n",
    "ax.set_aspect('equal')\n",
    "\n"
   ]
  },
  {
   "cell_type": "code",
   "execution_count": 6,
   "id": "3a6aaf8f",
   "metadata": {},
   "outputs": [
    {
     "name": "stdout",
     "output_type": "stream",
     "text": [
      "True\n"
     ]
    }
   ],
   "source": [
    "print(is_sym)"
   ]
  },
  {
   "cell_type": "code",
   "execution_count": null,
   "id": "2dc94404",
   "metadata": {},
   "outputs": [],
   "source": []
  },
  {
   "cell_type": "code",
   "execution_count": null,
   "id": "54e7c4f9",
   "metadata": {},
   "outputs": [],
   "source": []
  },
  {
   "cell_type": "code",
   "execution_count": null,
   "id": "2ad9ac4e",
   "metadata": {},
   "outputs": [],
   "source": []
  },
  {
   "cell_type": "code",
   "execution_count": null,
   "id": "7e84cb0d",
   "metadata": {},
   "outputs": [],
   "source": []
  },
  {
   "cell_type": "code",
   "execution_count": null,
   "id": "a3dab6e8",
   "metadata": {},
   "outputs": [],
   "source": []
  },
  {
   "cell_type": "code",
   "execution_count": null,
   "id": "ce63014c",
   "metadata": {},
   "outputs": [],
   "source": []
  },
  {
   "cell_type": "code",
   "execution_count": null,
   "id": "9365d0b4",
   "metadata": {},
   "outputs": [],
   "source": []
  }
 ],
 "metadata": {
  "kernelspec": {
   "display_name": "py3_htf_class",
   "language": "python",
   "name": "py3_htf_class"
  },
  "language_info": {
   "codemirror_mode": {
    "name": "ipython",
    "version": 3
   },
   "file_extension": ".py",
   "mimetype": "text/x-python",
   "name": "python",
   "nbconvert_exporter": "python",
   "pygments_lexer": "ipython3",
   "version": "3.7.10"
  }
 },
 "nbformat": 4,
 "nbformat_minor": 5
}
