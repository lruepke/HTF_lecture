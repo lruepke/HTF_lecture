{
 "cells": [
  {
   "cell_type": "markdown",
   "id": "c8b10d92",
   "metadata": {},
   "source": [
    "# 2-D FEM shape functions\n",
    "\n",
    "Compute the shape functions at try the interpolation at different \"integration\" pints within the element."
   ]
  },
  {
   "cell_type": "code",
   "execution_count": 31,
   "id": "110e493a",
   "metadata": {},
   "outputs": [],
   "source": [
    "import numpy as np"
   ]
  },
  {
   "cell_type": "code",
   "execution_count": 32,
   "id": "0f5a00f3",
   "metadata": {},
   "outputs": [],
   "source": [
    "#def shapes():\n",
    "#    \n",
    "#    N1 = ?\n",
    "#    N2 = ?\n",
    "#    N3 = ?\n",
    "#    N4 = ?\n",
    "\n",
    "#    N = np.array([N1, N2, N3, N4])\n",
    "    \n",
    "#    return N"
   ]
  },
  {
   "cell_type": "code",
   "execution_count": 33,
   "id": "1b91bace",
   "metadata": {},
   "outputs": [],
   "source": [
    "#hide: the code in this cell is hidden by the author"
   ]
  },
  {
   "cell_type": "code",
   "execution_count": 38,
   "id": "f296ffb8",
   "metadata": {},
   "outputs": [
    {
     "name": "stdout",
     "output_type": "stream",
     "text": [
      "[[-1  1  1 -1]\n",
      " [-1 -1  1  1]]\n",
      "[0 0 1 1]\n",
      "0.5\n",
      "0.5\n"
     ]
    }
   ],
   "source": [
    "# pseudo gcoord\n",
    "GCOORD = np.array([[-1, 1, 1, -1],[-1, -1, 1, 1]])\n",
    "print(GCOORD)\n",
    "# pseudo nodal temperatures\n",
    "T = np.array([0, 0, 1, 1])\n",
    "print(T)\n",
    "# interpolatin point\n",
    "xi = 0\n",
    "eta = 0\n",
    "\n",
    "# shape functions at integration point\n",
    "N, dNds = shapes()\n",
    "\n",
    "#interpolation\n",
    "print(sum(N*T))\n",
    "print(sum(dNds[1,:]*T))"
   ]
  },
  {
   "cell_type": "code",
   "execution_count": null,
   "id": "d55c137c",
   "metadata": {},
   "outputs": [],
   "source": []
  }
 ],
 "metadata": {
  "kernelspec": {
   "display_name": "py3_htf_class",
   "language": "python",
   "name": "py3_htf_class"
  },
  "language_info": {
   "codemirror_mode": {
    "name": "ipython",
    "version": 3
   },
   "file_extension": ".py",
   "mimetype": "text/x-python",
   "name": "python",
   "nbconvert_exporter": "python",
   "pygments_lexer": "ipython3",
   "version": "3.7.10"
  }
 },
 "nbformat": 4,
 "nbformat_minor": 5
}
